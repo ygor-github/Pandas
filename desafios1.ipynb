{
 "cells": [
  {
   "cell_type": "markdown",
   "id": "1f5b9050",
   "metadata": {},
   "source": [
    "En este notebook realizaremos tareas adicionales curso. Que forman parte de los desafios de cada modulo."
   ]
  },
  {
   "cell_type": "code",
   "execution_count": null,
   "id": "f22dce5e",
   "metadata": {},
   "outputs": [],
   "source": []
  },
  {
   "cell_type": "markdown",
   "id": "f3f040c7",
   "metadata": {},
   "source": []
  }
 ],
 "metadata": {
  "kernelspec": {
   "display_name": "pandas",
   "language": "python",
   "name": "python3"
  },
  "language_info": {
   "codemirror_mode": {
    "name": "ipython",
    "version": 3
   },
   "file_extension": ".py",
   "mimetype": "text/x-python",
   "name": "python",
   "nbconvert_exporter": "python",
   "pygments_lexer": "ipython3",
   "version": "3.13.2"
  }
 },
 "nbformat": 4,
 "nbformat_minor": 5
}
