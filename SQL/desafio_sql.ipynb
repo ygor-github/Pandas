{
 "cells": [
  {
   "cell_type": "markdown",
   "id": "dd206702-e97d-46c0-9404-3631b8e0dbb6",
   "metadata": {},
   "source": [
    "Você é responsável por criar um banco de dados local de clientes para uma instituição financeira. Temos o arquivo CSV com os dados de clientes.\n",
    "\n",
    "\n",
    "Sua missão é:\n",
    "\n",
    "\n",
    "1. Criar o banco de dados local com a biblioteca SQLAlchemy.\n",
    "2. Escrever os dados do arquivo CSV neste banco de dados local.\n",
    "3. Realizar três atualizações no banco de dados:\n",
    "    1. Atualizar o registro do cliente de ID 6840104 que teve o rendimento anual alterado para 300000.\n",
    "    2. Excluir o registro do cliente de ID 5008809, pois essa pessoa não possui mais conta na instituição financeira.\n",
    "    3. Criar um novo registro de cliente seguindo as especificações abaixo:\n",
    "        - ID_Cliente: 6850985\n",
    "        - Idade: 33\n",
    "        - Grau_escolaridade: Doutorado\n",
    "        - Estado_civil: Solteiro\n",
    "        - Tamanho_familia: 1\n",
    "        - Categoria_de_renda: Empregado\n",
    "        - Ocupacao: TI\n",
    "        - Anos_empregado: 2\n",
    "        - Rendimento_anual: 290000\n",
    "        - Tem_carro: 0\n",
    "        - Moradia: Casa/apartamento próprio\n",
    "    \n",
    "    >Dica importante: Para adicionar um(a) novo(a) cliente à tabela, utilize a cláusula INSERT INTO seguida do nome da tabela e depois especifique entre parênteses os nomes das colunas da tabela. Utilize a cláusula VALUES e, em seguida, passe entre parênteses os novos valores para esse novo registro. Certifique-se de que os valores estejam na ordem correta e no formato adequado para cada coluna.\n"
   ]
  },
  {
   "cell_type": "code",
   "execution_count": 25,
   "id": "42a5a56f-25cb-4a80-881b-6e3220d69ac0",
   "metadata": {},
   "outputs": [],
   "source": [
    "from sqlalchemy import create_engine\n",
    "import pandas as pd\n"
   ]
  },
  {
   "cell_type": "code",
   "execution_count": 26,
   "id": "37dbcbf8-8004-47b6-aba5-d3d8f9a01593",
   "metadata": {},
   "outputs": [],
   "source": [
    "# Criar o banco de dados local com a biblioteca SQLAlchemy.\n",
    "engine = create_engine('sqlite:///base.db')"
   ]
  },
  {
   "cell_type": "code",
   "execution_count": 27,
   "id": "2dce7132-d97e-4ce0-855a-15558813fa8f",
   "metadata": {},
   "outputs": [],
   "source": [
    "url = 'https://raw.githubusercontent.com/alura-cursos/Pandas/main/clientes_banco.csv'"
   ]
  },
  {
   "cell_type": "code",
   "execution_count": 29,
   "id": "5f5d88e6-eed9-48d6-a9d2-c6edb5124a29",
   "metadata": {},
   "outputs": [
    {
     "data": {
      "text/html": [
       "<div>\n",
       "<style scoped>\n",
       "    .dataframe tbody tr th:only-of-type {\n",
       "        vertical-align: middle;\n",
       "    }\n",
       "\n",
       "    .dataframe tbody tr th {\n",
       "        vertical-align: top;\n",
       "    }\n",
       "\n",
       "    .dataframe thead th {\n",
       "        text-align: right;\n",
       "    }\n",
       "</style>\n",
       "<table border=\"1\" class=\"dataframe\">\n",
       "  <thead>\n",
       "    <tr style=\"text-align: right;\">\n",
       "      <th></th>\n",
       "      <th>ID_Cliente</th>\n",
       "      <th>Idade</th>\n",
       "      <th>Grau_escolaridade</th>\n",
       "      <th>Estado_civil</th>\n",
       "      <th>Tamanho_familia</th>\n",
       "      <th>Categoria_de_renda</th>\n",
       "      <th>Ocupacao</th>\n",
       "      <th>Anos_empregado</th>\n",
       "      <th>Rendimento_anual</th>\n",
       "      <th>Tem_carro</th>\n",
       "      <th>Moradia</th>\n",
       "    </tr>\n",
       "  </thead>\n",
       "  <tbody>\n",
       "    <tr>\n",
       "      <th>438458</th>\n",
       "      <td>6840104</td>\n",
       "      <td>62</td>\n",
       "      <td>Ensino médio</td>\n",
       "      <td>Divorciado</td>\n",
       "      <td>1</td>\n",
       "      <td>Pensionista</td>\n",
       "      <td>Outro</td>\n",
       "      <td>0</td>\n",
       "      <td>135000.0</td>\n",
       "      <td>0</td>\n",
       "      <td>Casa/apartamento próprio</td>\n",
       "    </tr>\n",
       "  </tbody>\n",
       "</table>\n",
       "</div>"
      ],
      "text/plain": [
       "        ID_Cliente  Idade Grau_escolaridade Estado_civil  Tamanho_familia  \\\n",
       "438458     6840104     62      Ensino médio   Divorciado                1   \n",
       "\n",
       "       Categoria_de_renda Ocupacao  Anos_empregado  Rendimento_anual  \\\n",
       "438458        Pensionista    Outro               0          135000.0   \n",
       "\n",
       "        Tem_carro                   Moradia  \n",
       "438458          0  Casa/apartamento próprio  "
      ]
     },
     "execution_count": 29,
     "metadata": {},
     "output_type": "execute_result"
    }
   ],
   "source": [
    "# Realizamos una consulta para ver los datos actuales\n",
    "clientes_banco = pd.read_csv(url)\n",
    "clientes_banco.query('ID_Cliente == 6840104')"
   ]
  },
  {
   "cell_type": "code",
   "execution_count": 30,
   "id": "66485d70-48f1-4f4f-8201-df06dd5a641d",
   "metadata": {},
   "outputs": [
    {
     "data": {
      "text/plain": [
       "438463"
      ]
     },
     "execution_count": 30,
     "metadata": {},
     "output_type": "execute_result"
    }
   ],
   "source": [
    "# Escrever os dados do arquivo CSV neste banco de dados local.\n",
    "clientes_banco.to_sql('clientes', engine, index=False)"
   ]
  },
  {
   "cell_type": "code",
   "execution_count": 31,
   "id": "cfe4aa35-20f2-4312-9c5a-42494388c706",
   "metadata": {},
   "outputs": [
    {
     "data": {
      "text/plain": [
       "(438463, 11)"
      ]
     },
     "execution_count": 31,
     "metadata": {},
     "output_type": "execute_result"
    }
   ],
   "source": [
    "pd.read_sql_table('clientes', engine).shape"
   ]
  },
  {
   "cell_type": "code",
   "execution_count": 32,
   "id": "00a1504d-1ae6-46c1-b4ff-0053f162b14f",
   "metadata": {},
   "outputs": [],
   "source": [
    "# Atualizar o registro do cliente de ID 6840104 que teve o rendimento anual alterado para 300000.\n",
    "query = 'UPDATE clientes SET Rendimento_anual = 300000 WHERE ID_Cliente = 6840104'"
   ]
  },
  {
   "cell_type": "code",
   "execution_count": 33,
   "id": "c7fe2a2a-f989-4bab-a17e-c313be60a8c8",
   "metadata": {},
   "outputs": [],
   "source": [
    "from sqlalchemy import text\n",
    "\n",
    "with engine.connect() as conn:\n",
    "    conn.execute(text(query))\n",
    "    conn.commit()"
   ]
  },
  {
   "cell_type": "code",
   "execution_count": 34,
   "id": "7438c97f-1adb-4da1-891b-e2f206ff483a",
   "metadata": {},
   "outputs": [
    {
     "data": {
      "text/html": [
       "<div>\n",
       "<style scoped>\n",
       "    .dataframe tbody tr th:only-of-type {\n",
       "        vertical-align: middle;\n",
       "    }\n",
       "\n",
       "    .dataframe tbody tr th {\n",
       "        vertical-align: top;\n",
       "    }\n",
       "\n",
       "    .dataframe thead th {\n",
       "        text-align: right;\n",
       "    }\n",
       "</style>\n",
       "<table border=\"1\" class=\"dataframe\">\n",
       "  <thead>\n",
       "    <tr style=\"text-align: right;\">\n",
       "      <th></th>\n",
       "      <th>ID_Cliente</th>\n",
       "      <th>Idade</th>\n",
       "      <th>Grau_escolaridade</th>\n",
       "      <th>Estado_civil</th>\n",
       "      <th>Tamanho_familia</th>\n",
       "      <th>Categoria_de_renda</th>\n",
       "      <th>Ocupacao</th>\n",
       "      <th>Anos_empregado</th>\n",
       "      <th>Rendimento_anual</th>\n",
       "      <th>Tem_carro</th>\n",
       "      <th>Moradia</th>\n",
       "    </tr>\n",
       "  </thead>\n",
       "  <tbody>\n",
       "    <tr>\n",
       "      <th>438458</th>\n",
       "      <td>6840104</td>\n",
       "      <td>62</td>\n",
       "      <td>Ensino médio</td>\n",
       "      <td>Divorciado</td>\n",
       "      <td>1</td>\n",
       "      <td>Pensionista</td>\n",
       "      <td>Outro</td>\n",
       "      <td>0</td>\n",
       "      <td>300000.0</td>\n",
       "      <td>0</td>\n",
       "      <td>Casa/apartamento próprio</td>\n",
       "    </tr>\n",
       "  </tbody>\n",
       "</table>\n",
       "</div>"
      ],
      "text/plain": [
       "        ID_Cliente  Idade Grau_escolaridade Estado_civil  Tamanho_familia  \\\n",
       "438458     6840104     62      Ensino médio   Divorciado                1   \n",
       "\n",
       "       Categoria_de_renda Ocupacao  Anos_empregado  Rendimento_anual  \\\n",
       "438458        Pensionista    Outro               0          300000.0   \n",
       "\n",
       "        Tem_carro                   Moradia  \n",
       "438458          0  Casa/apartamento próprio  "
      ]
     },
     "execution_count": 34,
     "metadata": {},
     "output_type": "execute_result"
    }
   ],
   "source": [
    "# Consultamos el usuario para verificar que se actualizaron los datos\n",
    "pd.read_sql_table('clientes', engine).query('ID_Cliente == 6840104')\n"
   ]
  },
  {
   "cell_type": "code",
   "execution_count": 35,
   "id": "21545247-86de-435b-80b4-19a8c94e7876",
   "metadata": {},
   "outputs": [],
   "source": [
    "# Excluir o registro do cliente de ID 5008809, pois essa pessoa não possui mais conta na instituição financeira."
   ]
  },
  {
   "cell_type": "code",
   "execution_count": 36,
   "id": "f03067f3-c91d-4541-bea5-6f7eb474e0f3",
   "metadata": {},
   "outputs": [
    {
     "data": {
      "text/html": [
       "<div>\n",
       "<style scoped>\n",
       "    .dataframe tbody tr th:only-of-type {\n",
       "        vertical-align: middle;\n",
       "    }\n",
       "\n",
       "    .dataframe tbody tr th {\n",
       "        vertical-align: top;\n",
       "    }\n",
       "\n",
       "    .dataframe thead th {\n",
       "        text-align: right;\n",
       "    }\n",
       "</style>\n",
       "<table border=\"1\" class=\"dataframe\">\n",
       "  <thead>\n",
       "    <tr style=\"text-align: right;\">\n",
       "      <th></th>\n",
       "      <th>ID_Cliente</th>\n",
       "      <th>Idade</th>\n",
       "      <th>Grau_escolaridade</th>\n",
       "      <th>Estado_civil</th>\n",
       "      <th>Tamanho_familia</th>\n",
       "      <th>Categoria_de_renda</th>\n",
       "      <th>Ocupacao</th>\n",
       "      <th>Anos_empregado</th>\n",
       "      <th>Rendimento_anual</th>\n",
       "      <th>Tem_carro</th>\n",
       "      <th>Moradia</th>\n",
       "    </tr>\n",
       "  </thead>\n",
       "  <tbody>\n",
       "    <tr>\n",
       "      <th>4</th>\n",
       "      <td>5008809</td>\n",
       "      <td>52</td>\n",
       "      <td>Ensino médio</td>\n",
       "      <td>Solteiro</td>\n",
       "      <td>1</td>\n",
       "      <td>Associado comercial</td>\n",
       "      <td>Vendas</td>\n",
       "      <td>8</td>\n",
       "      <td>270000.0</td>\n",
       "      <td>0</td>\n",
       "      <td>Casa/apartamento próprio</td>\n",
       "    </tr>\n",
       "  </tbody>\n",
       "</table>\n",
       "</div>"
      ],
      "text/plain": [
       "   ID_Cliente  Idade Grau_escolaridade Estado_civil  Tamanho_familia  \\\n",
       "4     5008809     52      Ensino médio     Solteiro                1   \n",
       "\n",
       "    Categoria_de_renda Ocupacao  Anos_empregado  Rendimento_anual  Tem_carro  \\\n",
       "4  Associado comercial   Vendas               8          270000.0          0   \n",
       "\n",
       "                    Moradia  \n",
       "4  Casa/apartamento próprio  "
      ]
     },
     "execution_count": 36,
     "metadata": {},
     "output_type": "execute_result"
    }
   ],
   "source": [
    "# Realizamos una consutla antes para ver los datos del cliente\n",
    "pd.read_sql_table('clientes', engine).query('ID_Cliente == 5008809')"
   ]
  },
  {
   "cell_type": "code",
   "execution_count": 37,
   "id": "6013f7ce-c4f8-4464-af30-cfa34c7d58c8",
   "metadata": {},
   "outputs": [],
   "source": [
    "query3 = 'DELETE FROM clientes WHERE ID_Cliente = 5008809'\n",
    "with engine.connect() as conn:\n",
    "    conn.execute(text(query3))\n",
    "    conn.commit()"
   ]
  },
  {
   "cell_type": "code",
   "execution_count": 38,
   "id": "5d10fc13-5dfe-4c31-b5fd-2f726914078f",
   "metadata": {},
   "outputs": [
    {
     "data": {
      "text/html": [
       "<div>\n",
       "<style scoped>\n",
       "    .dataframe tbody tr th:only-of-type {\n",
       "        vertical-align: middle;\n",
       "    }\n",
       "\n",
       "    .dataframe tbody tr th {\n",
       "        vertical-align: top;\n",
       "    }\n",
       "\n",
       "    .dataframe thead th {\n",
       "        text-align: right;\n",
       "    }\n",
       "</style>\n",
       "<table border=\"1\" class=\"dataframe\">\n",
       "  <thead>\n",
       "    <tr style=\"text-align: right;\">\n",
       "      <th></th>\n",
       "      <th>ID_Cliente</th>\n",
       "      <th>Idade</th>\n",
       "      <th>Grau_escolaridade</th>\n",
       "      <th>Estado_civil</th>\n",
       "      <th>Tamanho_familia</th>\n",
       "      <th>Categoria_de_renda</th>\n",
       "      <th>Ocupacao</th>\n",
       "      <th>Anos_empregado</th>\n",
       "      <th>Rendimento_anual</th>\n",
       "      <th>Tem_carro</th>\n",
       "      <th>Moradia</th>\n",
       "    </tr>\n",
       "  </thead>\n",
       "  <tbody>\n",
       "  </tbody>\n",
       "</table>\n",
       "</div>"
      ],
      "text/plain": [
       "Empty DataFrame\n",
       "Columns: [ID_Cliente, Idade, Grau_escolaridade, Estado_civil, Tamanho_familia, Categoria_de_renda, Ocupacao, Anos_empregado, Rendimento_anual, Tem_carro, Moradia]\n",
       "Index: []"
      ]
     },
     "execution_count": 38,
     "metadata": {},
     "output_type": "execute_result"
    }
   ],
   "source": [
    "#Consultamos si fue borrado el cliente del banco de datos\n",
    "pd.read_sql_table('clientes', engine).query('ID_Cliente == 5008809')"
   ]
  },
  {
   "cell_type": "code",
   "execution_count": 43,
   "id": "19268d43-a693-4cbc-a730-7fcdc2c0804a",
   "metadata": {},
   "outputs": [],
   "source": [
    "# Crear consulta para nuevo registro.\n",
    "query4 = 'INSERT INTO clientes (ID_Cliente,Idade,Grau_escolaridade, Estado_civil, Tamanho_familia, Categoria_de_renda, Ocupacao, Anos_empregado, Rendimento_anual, Tem_carro, Moradia) VALUES (6850985, 33,\"Doutorado\", \"Solteiro\", 1, \"Empregado\",\"TI\", 2, 290000, 0, \"Casa/apartamento próprio\")'"
   ]
  },
  {
   "cell_type": "code",
   "execution_count": 44,
   "id": "276f4821-1367-4024-826c-347d4d461f5d",
   "metadata": {},
   "outputs": [],
   "source": [
    "#Cargar registro a la base de datos\n",
    "with engine.connect() as conn:\n",
    "    conn.execute(text(query4))\n",
    "    conn.commit()"
   ]
  },
  {
   "cell_type": "code",
   "execution_count": 45,
   "id": "9a41c8b2-01ea-4b78-9a28-b05eb2da9226",
   "metadata": {},
   "outputs": [
    {
     "data": {
      "text/html": [
       "<div>\n",
       "<style scoped>\n",
       "    .dataframe tbody tr th:only-of-type {\n",
       "        vertical-align: middle;\n",
       "    }\n",
       "\n",
       "    .dataframe tbody tr th {\n",
       "        vertical-align: top;\n",
       "    }\n",
       "\n",
       "    .dataframe thead th {\n",
       "        text-align: right;\n",
       "    }\n",
       "</style>\n",
       "<table border=\"1\" class=\"dataframe\">\n",
       "  <thead>\n",
       "    <tr style=\"text-align: right;\">\n",
       "      <th></th>\n",
       "      <th>ID_Cliente</th>\n",
       "      <th>Idade</th>\n",
       "      <th>Grau_escolaridade</th>\n",
       "      <th>Estado_civil</th>\n",
       "      <th>Tamanho_familia</th>\n",
       "      <th>Categoria_de_renda</th>\n",
       "      <th>Ocupacao</th>\n",
       "      <th>Anos_empregado</th>\n",
       "      <th>Rendimento_anual</th>\n",
       "      <th>Tem_carro</th>\n",
       "      <th>Moradia</th>\n",
       "    </tr>\n",
       "  </thead>\n",
       "  <tbody>\n",
       "    <tr>\n",
       "      <th>438462</th>\n",
       "      <td>6850985</td>\n",
       "      <td>33</td>\n",
       "      <td>Doutorado</td>\n",
       "      <td>Solteiro</td>\n",
       "      <td>1</td>\n",
       "      <td>Empregado</td>\n",
       "      <td>TI</td>\n",
       "      <td>2</td>\n",
       "      <td>290000.0</td>\n",
       "      <td>0</td>\n",
       "      <td>Casa/apartamento próprio</td>\n",
       "    </tr>\n",
       "  </tbody>\n",
       "</table>\n",
       "</div>"
      ],
      "text/plain": [
       "        ID_Cliente  Idade Grau_escolaridade Estado_civil  Tamanho_familia  \\\n",
       "438462     6850985     33         Doutorado     Solteiro                1   \n",
       "\n",
       "       Categoria_de_renda Ocupacao  Anos_empregado  Rendimento_anual  \\\n",
       "438462          Empregado       TI               2          290000.0   \n",
       "\n",
       "        Tem_carro                   Moradia  \n",
       "438462          0  Casa/apartamento próprio  "
      ]
     },
     "execution_count": 45,
     "metadata": {},
     "output_type": "execute_result"
    }
   ],
   "source": [
    "pd.read_sql_table('clientes', engine).query('ID_Cliente == 6850985')"
   ]
  },
  {
   "cell_type": "code",
   "execution_count": null,
   "id": "ef9ff289-fc86-461a-8375-647694cbb5cb",
   "metadata": {},
   "outputs": [],
   "source": []
  }
 ],
 "metadata": {
  "kernelspec": {
   "display_name": "Python (mi_entorno)",
   "language": "python",
   "name": "mi_entorno"
  },
  "language_info": {
   "codemirror_mode": {
    "name": "ipython",
    "version": 3
   },
   "file_extension": ".py",
   "mimetype": "text/x-python",
   "name": "python",
   "nbconvert_exporter": "python",
   "pygments_lexer": "ipython3",
   "version": "3.13.2"
  }
 },
 "nbformat": 4,
 "nbformat_minor": 5
}
